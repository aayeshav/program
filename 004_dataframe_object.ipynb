{
 "cells": [
  {
   "cell_type": "code",
   "execution_count": null,
   "id": "5032fb25",
   "metadata": {},
   "outputs": [],
   "source": []
  },
  {
   "cell_type": "code",
   "execution_count": null,
   "id": "dd52bf18",
   "metadata": {},
   "outputs": [],
   "source": []
  },
  {
   "cell_type": "code",
   "execution_count": null,
   "id": "4d38be3c",
   "metadata": {},
   "outputs": [],
   "source": []
  },
  {
   "cell_type": "code",
   "execution_count": null,
   "id": "adf1fb89",
   "metadata": {},
   "outputs": [],
   "source": []
  },
  {
   "cell_type": "code",
   "execution_count": null,
   "id": "23aeebdc",
   "metadata": {},
   "outputs": [],
   "source": []
  },
  {
   "cell_type": "code",
   "execution_count": null,
   "id": "8f326214",
   "metadata": {},
   "outputs": [],
   "source": []
  },
  {
   "cell_type": "code",
   "execution_count": null,
   "id": "c8aa2f99",
   "metadata": {},
   "outputs": [],
   "source": []
  },
  {
   "cell_type": "code",
   "execution_count": null,
   "id": "bc91b132",
   "metadata": {},
   "outputs": [],
   "source": []
  },
  {
   "cell_type": "code",
   "execution_count": null,
   "id": "0ec9d906",
   "metadata": {},
   "outputs": [],
   "source": []
  },
  {
   "cell_type": "code",
   "execution_count": null,
   "id": "4853d1c9",
   "metadata": {},
   "outputs": [],
   "source": []
  },
  {
   "cell_type": "code",
   "execution_count": null,
   "id": "56350d35",
   "metadata": {},
   "outputs": [],
   "source": []
  },
  {
   "cell_type": "code",
   "execution_count": null,
   "id": "10a503e6",
   "metadata": {},
   "outputs": [],
   "source": []
  },
  {
   "cell_type": "code",
   "execution_count": null,
   "id": "1fce3e50",
   "metadata": {},
   "outputs": [],
   "source": []
  },
  {
   "cell_type": "code",
   "execution_count": 1,
   "id": "88702efa",
   "metadata": {},
   "outputs": [],
   "source": [
    "import numpy as np\n",
    "import pandas as pd"
   ]
  },
  {
   "cell_type": "code",
   "execution_count": 10,
   "id": "ef17c57a",
   "metadata": {},
   "outputs": [],
   "source": [
    "city_data={\n",
    "    \"city\":[\"hyd\",\"amr\",\"che\",\"blr\",\"mum\"],\n",
    "    \"state\":[\"telangana\",\"andhra pradesh\",\"tamilnadu\",\"karnataka\",\"maharashtra\"],\n",
    "    \"population\":[15000000,10000000,12000000,14000000,17000000]\n",
    "}"
   ]
  },
  {
   "cell_type": "code",
   "execution_count": 11,
   "id": "b6e49903",
   "metadata": {},
   "outputs": [
    {
     "data": {
      "text/html": [
       "<div>\n",
       "<style scoped>\n",
       "    .dataframe tbody tr th:only-of-type {\n",
       "        vertical-align: middle;\n",
       "    }\n",
       "\n",
       "    .dataframe tbody tr th {\n",
       "        vertical-align: top;\n",
       "    }\n",
       "\n",
       "    .dataframe thead th {\n",
       "        text-align: right;\n",
       "    }\n",
       "</style>\n",
       "<table border=\"1\" class=\"dataframe\">\n",
       "  <thead>\n",
       "    <tr style=\"text-align: right;\">\n",
       "      <th></th>\n",
       "      <th>city</th>\n",
       "      <th>state</th>\n",
       "      <th>population</th>\n",
       "    </tr>\n",
       "  </thead>\n",
       "  <tbody>\n",
       "    <tr>\n",
       "      <th>0</th>\n",
       "      <td>hyd</td>\n",
       "      <td>telangana</td>\n",
       "      <td>15000000</td>\n",
       "    </tr>\n",
       "    <tr>\n",
       "      <th>1</th>\n",
       "      <td>amr</td>\n",
       "      <td>andhra pradesh</td>\n",
       "      <td>10000000</td>\n",
       "    </tr>\n",
       "    <tr>\n",
       "      <th>2</th>\n",
       "      <td>che</td>\n",
       "      <td>tamilnadu</td>\n",
       "      <td>12000000</td>\n",
       "    </tr>\n",
       "    <tr>\n",
       "      <th>3</th>\n",
       "      <td>blr</td>\n",
       "      <td>karnataka</td>\n",
       "      <td>14000000</td>\n",
       "    </tr>\n",
       "    <tr>\n",
       "      <th>4</th>\n",
       "      <td>mum</td>\n",
       "      <td>maharashtra</td>\n",
       "      <td>17000000</td>\n",
       "    </tr>\n",
       "  </tbody>\n",
       "</table>\n",
       "</div>"
      ],
      "text/plain": [
       "  city           state  population\n",
       "0  hyd       telangana    15000000\n",
       "1  amr  andhra pradesh    10000000\n",
       "2  che       tamilnadu    12000000\n",
       "3  blr       karnataka    14000000\n",
       "4  mum     maharashtra    17000000"
      ]
     },
     "execution_count": 11,
     "metadata": {},
     "output_type": "execute_result"
    }
   ],
   "source": [
    "cities = pd.DataFrame(city_data)\n",
    "cities"
   ]
  },
  {
   "cell_type": "code",
   "execution_count": 12,
   "id": "e43958b6",
   "metadata": {},
   "outputs": [
    {
     "data": {
      "text/html": [
       "<div>\n",
       "<style scoped>\n",
       "    .dataframe tbody tr th:only-of-type {\n",
       "        vertical-align: middle;\n",
       "    }\n",
       "\n",
       "    .dataframe tbody tr th {\n",
       "        vertical-align: top;\n",
       "    }\n",
       "\n",
       "    .dataframe thead th {\n",
       "        text-align: right;\n",
       "    }\n",
       "</style>\n",
       "<table border=\"1\" class=\"dataframe\">\n",
       "  <thead>\n",
       "    <tr style=\"text-align: right;\">\n",
       "      <th></th>\n",
       "      <th>0</th>\n",
       "      <th>1</th>\n",
       "      <th>2</th>\n",
       "      <th>3</th>\n",
       "      <th>4</th>\n",
       "    </tr>\n",
       "  </thead>\n",
       "  <tbody>\n",
       "    <tr>\n",
       "      <th>city</th>\n",
       "      <td>hyd</td>\n",
       "      <td>amr</td>\n",
       "      <td>che</td>\n",
       "      <td>blr</td>\n",
       "      <td>mum</td>\n",
       "    </tr>\n",
       "    <tr>\n",
       "      <th>state</th>\n",
       "      <td>telangana</td>\n",
       "      <td>andhra pradesh</td>\n",
       "      <td>tamilnadu</td>\n",
       "      <td>karnataka</td>\n",
       "      <td>maharashtra</td>\n",
       "    </tr>\n",
       "    <tr>\n",
       "      <th>population</th>\n",
       "      <td>15000000</td>\n",
       "      <td>10000000</td>\n",
       "      <td>12000000</td>\n",
       "      <td>14000000</td>\n",
       "      <td>17000000</td>\n",
       "    </tr>\n",
       "  </tbody>\n",
       "</table>\n",
       "</div>"
      ],
      "text/plain": [
       "                    0               1          2          3            4\n",
       "city              hyd             amr        che        blr          mum\n",
       "state       telangana  andhra pradesh  tamilnadu  karnataka  maharashtra\n",
       "population   15000000        10000000   12000000   14000000     17000000"
      ]
     },
     "execution_count": 12,
     "metadata": {},
     "output_type": "execute_result"
    }
   ],
   "source": [
    "cities.transpose()"
   ]
  },
  {
   "cell_type": "code",
   "execution_count": 13,
   "id": "4126300b",
   "metadata": {},
   "outputs": [
    {
     "data": {
      "text/html": [
       "<div>\n",
       "<style scoped>\n",
       "    .dataframe tbody tr th:only-of-type {\n",
       "        vertical-align: middle;\n",
       "    }\n",
       "\n",
       "    .dataframe tbody tr th {\n",
       "        vertical-align: top;\n",
       "    }\n",
       "\n",
       "    .dataframe thead th {\n",
       "        text-align: right;\n",
       "    }\n",
       "</style>\n",
       "<table border=\"1\" class=\"dataframe\">\n",
       "  <thead>\n",
       "    <tr style=\"text-align: right;\">\n",
       "      <th></th>\n",
       "      <th>0</th>\n",
       "      <th>1</th>\n",
       "      <th>2</th>\n",
       "      <th>3</th>\n",
       "      <th>4</th>\n",
       "    </tr>\n",
       "  </thead>\n",
       "  <tbody>\n",
       "    <tr>\n",
       "      <th>city</th>\n",
       "      <td>hyd</td>\n",
       "      <td>amr</td>\n",
       "      <td>che</td>\n",
       "      <td>blr</td>\n",
       "      <td>mum</td>\n",
       "    </tr>\n",
       "    <tr>\n",
       "      <th>state</th>\n",
       "      <td>telangana</td>\n",
       "      <td>andhra pradesh</td>\n",
       "      <td>tamilnadu</td>\n",
       "      <td>karnataka</td>\n",
       "      <td>maharashtra</td>\n",
       "    </tr>\n",
       "    <tr>\n",
       "      <th>population</th>\n",
       "      <td>15000000</td>\n",
       "      <td>10000000</td>\n",
       "      <td>12000000</td>\n",
       "      <td>14000000</td>\n",
       "      <td>17000000</td>\n",
       "    </tr>\n",
       "  </tbody>\n",
       "</table>\n",
       "</div>"
      ],
      "text/plain": [
       "                    0               1          2          3            4\n",
       "city              hyd             amr        che        blr          mum\n",
       "state       telangana  andhra pradesh  tamilnadu  karnataka  maharashtra\n",
       "population   15000000        10000000   12000000   14000000     17000000"
      ]
     },
     "execution_count": 13,
     "metadata": {},
     "output_type": "execute_result"
    }
   ],
   "source": [
    "cities.T"
   ]
  },
  {
   "cell_type": "code",
   "execution_count": 14,
   "id": "fe6960af",
   "metadata": {},
   "outputs": [
    {
     "data": {
      "text/plain": [
       "array([[68, 93, 46, 31, 83],\n",
       "       [ 4, 30, 17,  9, 79],\n",
       "       [90, 18, 84, 17, 84]], dtype=int32)"
      ]
     },
     "execution_count": 14,
     "metadata": {},
     "output_type": "execute_result"
    }
   ],
   "source": [
    "random_data=np.random.randint(1,101,(3,5))\n",
    "random_data"
   ]
  },
  {
   "cell_type": "code",
   "execution_count": 15,
   "id": "48455f51",
   "metadata": {},
   "outputs": [],
   "source": [
    "row_labels=[\"Morning\",\"Afternoon\",\"Evening\"]\n",
    "column_labels=[\"Monday\",\"tuesday\",\"wednesday\",\"Thursday\",\"Friday\"]"
   ]
  },
  {
   "cell_type": "code",
   "execution_count": 16,
   "id": "9b8af895",
   "metadata": {},
   "outputs": [
    {
     "data": {
      "text/html": [
       "<div>\n",
       "<style scoped>\n",
       "    .dataframe tbody tr th:only-of-type {\n",
       "        vertical-align: middle;\n",
       "    }\n",
       "\n",
       "    .dataframe tbody tr th {\n",
       "        vertical-align: top;\n",
       "    }\n",
       "\n",
       "    .dataframe thead th {\n",
       "        text-align: right;\n",
       "    }\n",
       "</style>\n",
       "<table border=\"1\" class=\"dataframe\">\n",
       "  <thead>\n",
       "    <tr style=\"text-align: right;\">\n",
       "      <th></th>\n",
       "      <th>0</th>\n",
       "      <th>1</th>\n",
       "      <th>2</th>\n",
       "      <th>3</th>\n",
       "      <th>4</th>\n",
       "    </tr>\n",
       "  </thead>\n",
       "  <tbody>\n",
       "    <tr>\n",
       "      <th>Morning</th>\n",
       "      <td>68</td>\n",
       "      <td>93</td>\n",
       "      <td>46</td>\n",
       "      <td>31</td>\n",
       "      <td>83</td>\n",
       "    </tr>\n",
       "    <tr>\n",
       "      <th>Afternoon</th>\n",
       "      <td>4</td>\n",
       "      <td>30</td>\n",
       "      <td>17</td>\n",
       "      <td>9</td>\n",
       "      <td>79</td>\n",
       "    </tr>\n",
       "    <tr>\n",
       "      <th>Evening</th>\n",
       "      <td>90</td>\n",
       "      <td>18</td>\n",
       "      <td>84</td>\n",
       "      <td>17</td>\n",
       "      <td>84</td>\n",
       "    </tr>\n",
       "  </tbody>\n",
       "</table>\n",
       "</div>"
      ],
      "text/plain": [
       "            0   1   2   3   4\n",
       "Morning    68  93  46  31  83\n",
       "Afternoon   4  30  17   9  79\n",
       "Evening    90  18  84  17  84"
      ]
     },
     "execution_count": 16,
     "metadata": {},
     "output_type": "execute_result"
    }
   ],
   "source": [
    "pd.DataFrame(data=random_data,\n",
    "             index=row_labels)"
   ]
  },
  {
   "cell_type": "code",
   "execution_count": 19,
   "id": "5be3763d",
   "metadata": {},
   "outputs": [
    {
     "data": {
      "text/html": [
       "<div>\n",
       "<style scoped>\n",
       "    .dataframe tbody tr th:only-of-type {\n",
       "        vertical-align: middle;\n",
       "    }\n",
       "\n",
       "    .dataframe tbody tr th {\n",
       "        vertical-align: top;\n",
       "    }\n",
       "\n",
       "    .dataframe thead th {\n",
       "        text-align: right;\n",
       "    }\n",
       "</style>\n",
       "<table border=\"1\" class=\"dataframe\">\n",
       "  <thead>\n",
       "    <tr style=\"text-align: right;\">\n",
       "      <th></th>\n",
       "      <th>Monday</th>\n",
       "      <th>tuesday</th>\n",
       "      <th>wednesday</th>\n",
       "      <th>Thursday</th>\n",
       "      <th>Friday</th>\n",
       "    </tr>\n",
       "  </thead>\n",
       "  <tbody>\n",
       "    <tr>\n",
       "      <th>Morning</th>\n",
       "      <td>68</td>\n",
       "      <td>93</td>\n",
       "      <td>46</td>\n",
       "      <td>31</td>\n",
       "      <td>83</td>\n",
       "    </tr>\n",
       "    <tr>\n",
       "      <th>Afternoon</th>\n",
       "      <td>4</td>\n",
       "      <td>30</td>\n",
       "      <td>17</td>\n",
       "      <td>9</td>\n",
       "      <td>79</td>\n",
       "    </tr>\n",
       "    <tr>\n",
       "      <th>Evening</th>\n",
       "      <td>90</td>\n",
       "      <td>18</td>\n",
       "      <td>84</td>\n",
       "      <td>17</td>\n",
       "      <td>84</td>\n",
       "    </tr>\n",
       "  </tbody>\n",
       "</table>\n",
       "</div>"
      ],
      "text/plain": [
       "           Monday  tuesday  wednesday  Thursday  Friday\n",
       "Morning        68       93         46        31      83\n",
       "Afternoon       4       30         17         9      79\n",
       "Evening        90       18         84        17      84"
      ]
     },
     "execution_count": 19,
     "metadata": {},
     "output_type": "execute_result"
    }
   ],
   "source": [
    "random_df=pd.DataFrame(data=random_data,index=row_labels,columns=column_labels)\n",
    "random_df"
   ]
  },
  {
   "cell_type": "code",
   "execution_count": 23,
   "id": "bdcf33ac",
   "metadata": {},
   "outputs": [
    {
     "name": "stderr",
     "output_type": "stream",
     "text": [
      "C:\\Users\\aayes\\AppData\\Local\\Temp\\ipykernel_26120\\3349098481.py:1: UserWarning: Could not infer format, so each element will be parsed individually, falling back to `dateutil`. To ensure parsing is consistent and as-expected, please specify a format.\n",
      "  nba=pd.read_csv(\"nba.csv\",parse_dates=[\"Birthday\"])\n"
     ]
    },
    {
     "data": {
      "text/html": [
       "<div>\n",
       "<style scoped>\n",
       "    .dataframe tbody tr th:only-of-type {\n",
       "        vertical-align: middle;\n",
       "    }\n",
       "\n",
       "    .dataframe tbody tr th {\n",
       "        vertical-align: top;\n",
       "    }\n",
       "\n",
       "    .dataframe thead th {\n",
       "        text-align: right;\n",
       "    }\n",
       "</style>\n",
       "<table border=\"1\" class=\"dataframe\">\n",
       "  <thead>\n",
       "    <tr style=\"text-align: right;\">\n",
       "      <th></th>\n",
       "      <th>Name</th>\n",
       "      <th>Team</th>\n",
       "      <th>Position</th>\n",
       "      <th>Birthday</th>\n",
       "      <th>Salary</th>\n",
       "    </tr>\n",
       "  </thead>\n",
       "  <tbody>\n",
       "    <tr>\n",
       "      <th>0</th>\n",
       "      <td>Shake Milton</td>\n",
       "      <td>Philadelphia 76ers</td>\n",
       "      <td>SG</td>\n",
       "      <td>1996-09-26</td>\n",
       "      <td>1445697</td>\n",
       "    </tr>\n",
       "    <tr>\n",
       "      <th>1</th>\n",
       "      <td>Christian Wood</td>\n",
       "      <td>Detroit Pistons</td>\n",
       "      <td>PF</td>\n",
       "      <td>1995-09-27</td>\n",
       "      <td>1645357</td>\n",
       "    </tr>\n",
       "    <tr>\n",
       "      <th>2</th>\n",
       "      <td>PJ Washington</td>\n",
       "      <td>Charlotte Hornets</td>\n",
       "      <td>PF</td>\n",
       "      <td>1998-08-23</td>\n",
       "      <td>3831840</td>\n",
       "    </tr>\n",
       "    <tr>\n",
       "      <th>3</th>\n",
       "      <td>Derrick Rose</td>\n",
       "      <td>Detroit Pistons</td>\n",
       "      <td>PG</td>\n",
       "      <td>1988-10-04</td>\n",
       "      <td>7317074</td>\n",
       "    </tr>\n",
       "    <tr>\n",
       "      <th>4</th>\n",
       "      <td>Marial Shayok</td>\n",
       "      <td>Philadelphia 76ers</td>\n",
       "      <td>G</td>\n",
       "      <td>1995-07-26</td>\n",
       "      <td>79568</td>\n",
       "    </tr>\n",
       "    <tr>\n",
       "      <th>...</th>\n",
       "      <td>...</td>\n",
       "      <td>...</td>\n",
       "      <td>...</td>\n",
       "      <td>...</td>\n",
       "      <td>...</td>\n",
       "    </tr>\n",
       "    <tr>\n",
       "      <th>445</th>\n",
       "      <td>Austin Rivers</td>\n",
       "      <td>Houston Rockets</td>\n",
       "      <td>PG</td>\n",
       "      <td>1992-08-01</td>\n",
       "      <td>2174310</td>\n",
       "    </tr>\n",
       "    <tr>\n",
       "      <th>446</th>\n",
       "      <td>Harry Giles</td>\n",
       "      <td>Sacramento Kings</td>\n",
       "      <td>PF</td>\n",
       "      <td>1998-04-22</td>\n",
       "      <td>2578800</td>\n",
       "    </tr>\n",
       "    <tr>\n",
       "      <th>447</th>\n",
       "      <td>Robin Lopez</td>\n",
       "      <td>Milwaukee Bucks</td>\n",
       "      <td>C</td>\n",
       "      <td>1988-04-01</td>\n",
       "      <td>4767000</td>\n",
       "    </tr>\n",
       "    <tr>\n",
       "      <th>448</th>\n",
       "      <td>Collin Sexton</td>\n",
       "      <td>Cleveland Cavaliers</td>\n",
       "      <td>PG</td>\n",
       "      <td>1999-01-04</td>\n",
       "      <td>4764960</td>\n",
       "    </tr>\n",
       "    <tr>\n",
       "      <th>449</th>\n",
       "      <td>Ricky Rubio</td>\n",
       "      <td>Phoenix Suns</td>\n",
       "      <td>PG</td>\n",
       "      <td>1990-10-21</td>\n",
       "      <td>16200000</td>\n",
       "    </tr>\n",
       "  </tbody>\n",
       "</table>\n",
       "<p>450 rows × 5 columns</p>\n",
       "</div>"
      ],
      "text/plain": [
       "               Name                 Team Position   Birthday    Salary\n",
       "0      Shake Milton   Philadelphia 76ers       SG 1996-09-26   1445697\n",
       "1    Christian Wood      Detroit Pistons       PF 1995-09-27   1645357\n",
       "2     PJ Washington    Charlotte Hornets       PF 1998-08-23   3831840\n",
       "3      Derrick Rose      Detroit Pistons       PG 1988-10-04   7317074\n",
       "4     Marial Shayok   Philadelphia 76ers        G 1995-07-26     79568\n",
       "..              ...                  ...      ...        ...       ...\n",
       "445   Austin Rivers      Houston Rockets       PG 1992-08-01   2174310\n",
       "446     Harry Giles     Sacramento Kings       PF 1998-04-22   2578800\n",
       "447     Robin Lopez      Milwaukee Bucks        C 1988-04-01   4767000\n",
       "448   Collin Sexton  Cleveland Cavaliers       PG 1999-01-04   4764960\n",
       "449     Ricky Rubio         Phoenix Suns       PG 1990-10-21  16200000\n",
       "\n",
       "[450 rows x 5 columns]"
      ]
     },
     "execution_count": 23,
     "metadata": {},
     "output_type": "execute_result"
    }
   ],
   "source": [
    "nba=pd.read_csv(\"nba.csv\",parse_dates=[\"Birthday\"])\n",
    "nba"
   ]
  },
  {
   "cell_type": "code",
   "execution_count": 24,
   "id": "9314d4fb",
   "metadata": {},
   "outputs": [
    {
     "data": {
      "text/plain": [
       "Name                object\n",
       "Team                object\n",
       "Position            object\n",
       "Birthday    datetime64[ns]\n",
       "Salary               int64\n",
       "dtype: object"
      ]
     },
     "execution_count": 24,
     "metadata": {},
     "output_type": "execute_result"
    }
   ],
   "source": [
    "nba.dtypes"
   ]
  },
  {
   "cell_type": "code",
   "execution_count": 25,
   "id": "b1c8a23b",
   "metadata": {},
   "outputs": [
    {
     "data": {
      "text/html": [
       "<div>\n",
       "<style scoped>\n",
       "    .dataframe tbody tr th:only-of-type {\n",
       "        vertical-align: middle;\n",
       "    }\n",
       "\n",
       "    .dataframe tbody tr th {\n",
       "        vertical-align: top;\n",
       "    }\n",
       "\n",
       "    .dataframe thead th {\n",
       "        text-align: right;\n",
       "    }\n",
       "</style>\n",
       "<table border=\"1\" class=\"dataframe\">\n",
       "  <thead>\n",
       "    <tr style=\"text-align: right;\">\n",
       "      <th></th>\n",
       "      <th>Name</th>\n",
       "      <th>Team</th>\n",
       "      <th>Position</th>\n",
       "      <th>Birthday</th>\n",
       "      <th>Salary</th>\n",
       "    </tr>\n",
       "  </thead>\n",
       "  <tbody>\n",
       "    <tr>\n",
       "      <th>205</th>\n",
       "      <td>Stephen Curry</td>\n",
       "      <td>Golden State Warriors</td>\n",
       "      <td>PG</td>\n",
       "      <td>1988-03-14</td>\n",
       "      <td>40231758</td>\n",
       "    </tr>\n",
       "    <tr>\n",
       "      <th>38</th>\n",
       "      <td>Chris Paul</td>\n",
       "      <td>Oklahoma City Thunder</td>\n",
       "      <td>PG</td>\n",
       "      <td>1985-05-06</td>\n",
       "      <td>38506482</td>\n",
       "    </tr>\n",
       "    <tr>\n",
       "      <th>219</th>\n",
       "      <td>Russell Westbrook</td>\n",
       "      <td>Houston Rockets</td>\n",
       "      <td>PG</td>\n",
       "      <td>1988-11-12</td>\n",
       "      <td>38506482</td>\n",
       "    </tr>\n",
       "    <tr>\n",
       "      <th>251</th>\n",
       "      <td>John Wall</td>\n",
       "      <td>Washington Wizards</td>\n",
       "      <td>PG</td>\n",
       "      <td>1990-09-06</td>\n",
       "      <td>38199000</td>\n",
       "    </tr>\n",
       "  </tbody>\n",
       "</table>\n",
       "</div>"
      ],
      "text/plain": [
       "                  Name                   Team Position   Birthday    Salary\n",
       "205      Stephen Curry  Golden State Warriors       PG 1988-03-14  40231758\n",
       "38          Chris Paul  Oklahoma City Thunder       PG 1985-05-06  38506482\n",
       "219  Russell Westbrook        Houston Rockets       PG 1988-11-12  38506482\n",
       "251          John Wall     Washington Wizards       PG 1990-09-06  38199000"
      ]
     },
     "execution_count": 25,
     "metadata": {},
     "output_type": "execute_result"
    }
   ],
   "source": [
    "nba.nlargest(n=4,columns=\"Salary\")"
   ]
  },
  {
   "cell_type": "code",
   "execution_count": null,
   "id": "3257c88e",
   "metadata": {},
   "outputs": [
    {
     "data": {
      "text/html": [
       "<div>\n",
       "<style scoped>\n",
       "    .dataframe tbody tr th:only-of-type {\n",
       "        vertical-align: middle;\n",
       "    }\n",
       "\n",
       "    .dataframe tbody tr th {\n",
       "        vertical-align: top;\n",
       "    }\n",
       "\n",
       "    .dataframe thead th {\n",
       "        text-align: right;\n",
       "    }\n",
       "</style>\n",
       "<table border=\"1\" class=\"dataframe\">\n",
       "  <thead>\n",
       "    <tr style=\"text-align: right;\">\n",
       "      <th></th>\n",
       "      <th>Name</th>\n",
       "      <th>Team</th>\n",
       "      <th>Position</th>\n",
       "      <th>Birthday</th>\n",
       "      <th>Salary</th>\n",
       "    </tr>\n",
       "  </thead>\n",
       "  <tbody>\n",
       "    <tr>\n",
       "      <th>98</th>\n",
       "      <td>Vince Carter</td>\n",
       "      <td>Atlanta Hawks</td>\n",
       "      <td>PF</td>\n",
       "      <td>1977-01-26</td>\n",
       "      <td>2564753</td>\n",
       "    </tr>\n",
       "    <tr>\n",
       "      <th>196</th>\n",
       "      <td>Udonis Haslem</td>\n",
       "      <td>Miami Heat</td>\n",
       "      <td>C</td>\n",
       "      <td>1980-06-09</td>\n",
       "      <td>2564753</td>\n",
       "    </tr>\n",
       "    <tr>\n",
       "      <th>262</th>\n",
       "      <td>Kyle Korver</td>\n",
       "      <td>Milwaukee Bucks</td>\n",
       "      <td>PF</td>\n",
       "      <td>1981-03-17</td>\n",
       "      <td>6004753</td>\n",
       "    </tr>\n",
       "  </tbody>\n",
       "</table>\n",
       "</div>"
      ],
      "text/plain": [
       "              Name             Team Position   Birthday   Salary\n",
       "98    Vince Carter    Atlanta Hawks       PF 1977-01-26  2564753\n",
       "196  Udonis Haslem       Miami Heat        C 1980-06-09  2564753\n",
       "262    Kyle Korver  Milwaukee Bucks       PF 1981-03-17  6004753"
      ]
     },
     "execution_count": 27,
     "metadata": {},
     "output_type": "execute_result"
    }
   ],
   "source": [
    "nba.nsmallest(n=3,columns='Birthday') #top 3 oldest"
   ]
  },
  {
   "cell_type": "code",
   "execution_count": 29,
   "id": "b2b41920",
   "metadata": {},
   "outputs": [
    {
     "data": {
      "text/plain": [
       "\"Shake MiltonChristian WoodPJ WashingtonDerrick RoseMarial ShayokDraymond GreenKendrick NunnCedi OsmanBrook LopezTorrey CraigJordan ClarksonAlex CarusoNorvel PelleTyler JohnsonAlec BurksJaMychal GreenDwight HowardNikola JokicChris BoucherMarcus MorrisKevin HuerterRui HachimuraGeorge HillNickeil Alexander-WalkerJaylen HoardTyler CookOtto PorterLangston GallowayEvan TurnerNorman PowellNicolas ClaxtonMichael FrazierPaul MillsapFurkan KorkmazTrey BurkeBradley BealThomas BryantDean WadeChris PaulJosh HartLaMarcus AldridgeDaQuan JeffriesHamidou DialloJamal MurrayDarius BazleyRobert FranksGerald GreenThaddeus YoungSviatoslav MykhailiukIan MahinmiDeonte BurtonMarkelle FultzAaron GordonDzanan MusaPatrick McCawBismack BiyomboJaVale McGeeJuwan MorganMarc GasolMarcus SmartRudy GobertWesley IwunduDwight PowellGoran DragicTheo PinsonDanilo GallinariJoe InglesJarrett CulverRobert CovingtonDamyean DotsonPatrick BeverleyKevin LoveQuinn CookJustin Wright-ForemanNoah VonlehTyus JonesDewayne DedmonMalcolm BrogdonBen McLemoreWilson ChandlerIsaac BongaAdam MokokaLonzo BallJalen BrunsonJohn CollinsMarvin WilliamsBrad WanamakerDonte DiVincenzoOmari SpellmanJoe HarrisRoyce O'NealeDeandre AytonCory JosephMalcolm MillerJustise WinslowKevin DurantEvan FournierChris SilvaVince CarterCody ZellerBrian BowenAaron HolidayTroy DanielsBuddy HieldTerance MannJohn KoncharKZ OkpalaDenzel ValentineMarquese ChrissAnthony DavisNemanja BjelicaChandler ParsonsCourtney LeeMyles TurnerKyle O'QuinnBryn ForbesDuncan RobinsonDevin BookerGrant WilliamsDeMarcus CousinsDeMar DeRozanKristaps PorzingisBrandon KnightThabo SefoloshaDavid NwabaQuinndary WeatherspoonDewan HernandezIsaiah ThomasBruce BrownKeldon JohnsonDamian JonesLuguentz DortTerence DavisChandler HutchisonSteven AdamsJordan PooleSekou DoumbouyaZion WilliamsonMike MuscalaSkal LabissiereMeyers LeonardReggie JacksonAlfonzo McKinnieYuta WatanabeKentavious Caldwell-PopeKelan MartinOG AnunobyTyler HerroRichaun HolmesTyson ChandlerSolomon HillKeita Bates-DiopKelly OlynykJaxson HayesCJ McCollumDarius MillerLuka DoncicDeMarre CarrollCristiano FelicioZach LaVineTremont WatersDejounte MurrayJerome RobinsonRudy GayRyan BroekhoffJake LaymanCameron JohnsonAllen CrabbeJustin JamesEmmanuel MudiayAvery BradleyVictor OladipoCaleb MartinCoby WhiteIsaiah HartensteinWill BartonDwayne BaconHarrison BarnesTim FrazierJimmy ButlerGary HarrisThon MakerShai Gilgeous-AlexanderHassan WhitesideKarl-Anthony TownsKy BowmanBen SimmonsTerrence RossJordan McLaughlinDaniel TheisJonathan IsaacCheick DialloSerge IbakaAmile JeffersonCam ReddishDe'Anthony MeltonUdonis HaslemCharlie BrownElie OkoboGordon HaywardMarco BelinelliJavonte GreenRondae Hollis-JeffersonCarmelo AnthonyDanny GreenStephen CurryEric PaschallDaniel GaffordAnfernee SimonsFrank KaminskyLuke KennardJosh OkogieRodney HoodDe'Andre HunterKlay ThompsonJrue HolidayPJ DozierAndre DrummondJared HarperRussell WestbrookTony BradleyOshae BrissettGary ClarkPascal SiakamEric BledsoeTomas SatoranskyDavis BertansAmir CoffeyIgnas BrazdeikisIvan RabbKhris MiddletonKevin KnoxJeff GreenErsan IlyasovaCaleb SwaniganAl HorfordClint CapelaGeorges NiangWesley MatthewsRajon RondoDelon WrightJa MorantFred VanVleetBrandon ClarkeMiye OniJulius RandleGlenn Robinson IIIDillon BrooksZylan CheathamMarkieff MorrisMalik BeasleyJohn WallVlatko CancarAlize JohnsonAndrew WigginsKhyri ThomasMitchell RobinsonDamian LillardNassir LittleMikal BridgesKyle AndersonGarrett TempleKyle KorverAl-Farouq AminuJames HardenDerrick WhiteJaKarr SampsonDario SaricIvica ZubacJuan HernangomezJarrell BrantleyEric GordonNaz ReidJustin RobinsonGrayson AllenTrevor ArizaBrandon GoodwinE'Twaun MooreMario HezonjaHenry EllensonJohnathan MotleyJames EnnisAndre RobersonGarrison MathewsJahlil OkaforMfiondu KabengeleTreveon GrahamSeth CurryD'Angelo RussellJustin HolidayTyrone WallaceMiles BridgesBogdan BogdanovicMatt ThomasJordan BellWenyen GabrielTony SnellShaquille HarrisonYogi FerrellMike ScottJarred VanderbiltJeff TeagueZach NorvellMaxi KleberMatisse ThybulleRyan ArcidiaconoWayne EllingtonKawhi LeonardMontrezl HarrellJusuf NurkicMatthew DellavedovaCody MartinZhaire SmithRJ BarrettLonnie WalkerTaurean PrinceElfrid PaytonBlake GriffinMarko GuduricZach CollinsStanley JohnsonBoban MarjanovicJosh MagetteKyle LowryDarius GarlandFrank JacksonDragan BenderKenrich WilliamsJerami GrantAllonzo TrierPat ConnaughtonDomantas SabonisDylan WindlerAntonius ClevelandDamion LeeKhem BirchAron BaynesKemba WalkerNerlens NoelJabari ParkerCarsen EdwardsAnthony TolliverLauri MarkkanenKris DunnReggie BullockMike ConleyJaylen NowellGorgui DiengPatrick PattersonJarrett AllenBobby PortisJoel EmbiidJonas ValanciunasChris ChiozzaKent BazemoreTristan ThompsonMason PlumleeShabazz NapierEdmond SumnerAlex LenJosh RichardsonBojan BogdanovicIman ShumpertDaryl MaconRodney McGruderBam AdebayoJacob EvansNigel Williams-GossTerrance FergusonMichael Carter-WilliamsBol BolWillie Cauley-SteinNikola VucevicNicolas BatumKyrie IrvingJeremy LambDonovan MitchellThanasis AntetokounmpoJames JohnsonMonte MorrisTerry RozierDeAndre JordanJae CrowderJosh GrayGoga BitadzeKobi SimmonsDerrick FavorsLandry ShametJalen McDanielsBruno CabocloDrew EubanksRaul NetoJalen LecqueGiannis AntetokounmpoMalik MonkTacko FallJustin JacksonPaul GeorgeJayson TatumAdmiral SchofieldLouis KingKostas AntetokounmpoRodions KurucsSpencer DinwiddieDoug McDermottRomeo LangfordCaris LeVertMichael Kidd-GilchristLeBron JamesTaj GibsonTy JeromeChris ClemonsLuke KornetTrey LylesSterling BrownAndre IguodalaVincent PoirierFrank NtilikinaJordan McRaeEnes KanterJohn HensonJaylen BrownJonah BoldenChimezie MetuTobias HarrisSemi OjeleyeJevon CarterBrandon IngramMoritz WagnerDorian Finney-SmithDanuel HouseNicolo MelliTalen Horton-TuckerEd DavisKyle GuyKadeem AllenDante ExumAbdel NaderBruno FernandoDion WaitersJared DudleyMax StrusKevon LooneyWilly HernangomezMelvin FrazierAustin RiversHarry GilesRobin LopezCollin SextonRicky Rubio\""
      ]
     },
     "execution_count": 29,
     "metadata": {},
     "output_type": "execute_result"
    }
   ],
   "source": [
    "nba[\"Name\"].sum()"
   ]
  },
  {
   "cell_type": "code",
   "execution_count": 30,
   "id": "208afa89",
   "metadata": {},
   "outputs": [
    {
     "data": {
      "text/plain": [
       "'SGPFPFPGGPFSGSFCSFPGPGFCPGSGPFCCPFPFSGPFPGSGSFPFSFPGPGSGPFGPFSGPGSGCPFPGSFCSGSFPGPFFSFPFSFCSGPGPFSFSFCCFCPGCSFCPGSGPFPFSGPFSGPGCPGGCPGCPGSGPFPGGPGPGPFPFPGSGPFSFPFCPGSFPFPFSFPFPFCSGPGSGSGSGSGSFSFPFCPFSFSGCCSGPFSGPFCSFPFPGPFSFGCPGSGSFCGSGSFCSGSFFCCCPGSFSFSGSFSFSGCCSFSFCCSGSFPGPFCPGPGPGSGPFSGPFPFSGSGPGPGPGSFSGCSFSGPFPGSFSGCPGCCPGPGSFPGCPFCCPFSFPGCSGPGPFSFSFSFPFSGPGPFCSGCSGSGSFSFSGPGPGCPGPGCSFPFPFPGPGPFGSFPFSFPFPFPFPFCCPFSFPGPGPGPGPFSGCSFSFSFPFSGPGSFPFSFSGCPGPFSFPFPGPFPFPGPGSFPFCPFPFPGFPGSGSFPGPGPFPFPFSFSFSGCCSGPGPGSGPGSFSGSGCPFSFPGPGPFPFPGSGCSGPGSGSFCCPGSFSGSGSGSFPGPFSGCPFCPGPGPGPGPFPFPFPGSGCGFSGSGCCPGCPFSGPFPFPGSFPGSGCPFCCCCPGSFCCPGPGCSFSFPGSGSGCSGPGSFPGCCCSFPGSFSGSFPFPGPGCSFPGCPGCSGPFSFPFPGGPFSGCPFSFPFSFFPFPFPGPFSGSFPFPFCGSGCPFSFSFCPGPGCCSFPFPFPFPFPGPFCPFSFCGFCGPGPGSFCSGPFSGCCSGPGPFCPGPG'"
      ]
     },
     "execution_count": 30,
     "metadata": {},
     "output_type": "execute_result"
    }
   ],
   "source": [
    "nba[\"Position\"].sum()"
   ]
  },
  {
   "cell_type": "code",
   "execution_count": 31,
   "id": "71f19300",
   "metadata": {},
   "outputs": [
    {
     "data": {
      "text/plain": [
       "Name                object\n",
       "Team                object\n",
       "Position            object\n",
       "Birthday    datetime64[ns]\n",
       "Salary               int64\n",
       "dtype: object"
      ]
     },
     "execution_count": 31,
     "metadata": {},
     "output_type": "execute_result"
    }
   ],
   "source": [
    "nba.dtypes"
   ]
  },
  {
   "cell_type": "code",
   "execution_count": 32,
   "id": "2675000e",
   "metadata": {},
   "outputs": [
    {
     "data": {
      "text/plain": [
       "Salary    3444112694\n",
       "dtype: int64"
      ]
     },
     "execution_count": 32,
     "metadata": {},
     "output_type": "execute_result"
    }
   ],
   "source": [
    "nba.sum(numeric_only=True)"
   ]
  },
  {
   "cell_type": "code",
   "execution_count": 33,
   "id": "f241f5f5",
   "metadata": {},
   "outputs": [
    {
     "data": {
      "text/plain": [
       "Salary    7.653584e+06\n",
       "dtype: float64"
      ]
     },
     "execution_count": 33,
     "metadata": {},
     "output_type": "execute_result"
    }
   ],
   "source": [
    "nba.mean(numeric_only=True)"
   ]
  },
  {
   "cell_type": "code",
   "execution_count": 34,
   "id": "8139a483",
   "metadata": {},
   "outputs": [
    {
     "data": {
      "text/plain": [
       "Salary    3303074.5\n",
       "dtype: float64"
      ]
     },
     "execution_count": 34,
     "metadata": {},
     "output_type": "execute_result"
    }
   ],
   "source": [
    "nba.median(numeric_only=True)"
   ]
  },
  {
   "cell_type": "code",
   "execution_count": 35,
   "id": "0e9b535e",
   "metadata": {},
   "outputs": [
    {
     "data": {
      "text/html": [
       "<div>\n",
       "<style scoped>\n",
       "    .dataframe tbody tr th:only-of-type {\n",
       "        vertical-align: middle;\n",
       "    }\n",
       "\n",
       "    .dataframe tbody tr th {\n",
       "        vertical-align: top;\n",
       "    }\n",
       "\n",
       "    .dataframe thead th {\n",
       "        text-align: right;\n",
       "    }\n",
       "</style>\n",
       "<table border=\"1\" class=\"dataframe\">\n",
       "  <thead>\n",
       "    <tr style=\"text-align: right;\">\n",
       "      <th></th>\n",
       "      <th>Salary</th>\n",
       "    </tr>\n",
       "  </thead>\n",
       "  <tbody>\n",
       "    <tr>\n",
       "      <th>0</th>\n",
       "      <td>79568</td>\n",
       "    </tr>\n",
       "  </tbody>\n",
       "</table>\n",
       "</div>"
      ],
      "text/plain": [
       "   Salary\n",
       "0   79568"
      ]
     },
     "execution_count": 35,
     "metadata": {},
     "output_type": "execute_result"
    }
   ],
   "source": [
    "nba.mode(numeric_only=True)"
   ]
  },
  {
   "cell_type": "code",
   "execution_count": 36,
   "id": "3cbf00d4",
   "metadata": {},
   "outputs": [
    {
     "data": {
      "text/plain": [
       "Salary    9.288810e+06\n",
       "dtype: float64"
      ]
     },
     "execution_count": 36,
     "metadata": {},
     "output_type": "execute_result"
    }
   ],
   "source": [
    "nba.std(numeric_only=True)"
   ]
  },
  {
   "cell_type": "code",
   "execution_count": 38,
   "id": "1059a7a4",
   "metadata": {},
   "outputs": [
    {
     "data": {
      "text/html": [
       "<div>\n",
       "<style scoped>\n",
       "    .dataframe tbody tr th:only-of-type {\n",
       "        vertical-align: middle;\n",
       "    }\n",
       "\n",
       "    .dataframe tbody tr th {\n",
       "        vertical-align: top;\n",
       "    }\n",
       "\n",
       "    .dataframe thead th {\n",
       "        text-align: right;\n",
       "    }\n",
       "</style>\n",
       "<table border=\"1\" class=\"dataframe\">\n",
       "  <thead>\n",
       "    <tr style=\"text-align: right;\">\n",
       "      <th></th>\n",
       "      <th>Name</th>\n",
       "      <th>Team</th>\n",
       "      <th>Position</th>\n",
       "      <th>Birthday</th>\n",
       "      <th>Salary</th>\n",
       "    </tr>\n",
       "  </thead>\n",
       "  <tbody>\n",
       "    <tr>\n",
       "      <th>111</th>\n",
       "      <td>Chandler Parsons</td>\n",
       "      <td>Atlanta Hawks</td>\n",
       "      <td>SF</td>\n",
       "      <td>1988-10-25</td>\n",
       "      <td>25102512</td>\n",
       "    </tr>\n",
       "    <tr>\n",
       "      <th>28</th>\n",
       "      <td>Evan Turner</td>\n",
       "      <td>Atlanta Hawks</td>\n",
       "      <td>PG</td>\n",
       "      <td>1988-10-27</td>\n",
       "      <td>18606556</td>\n",
       "    </tr>\n",
       "    <tr>\n",
       "      <th>167</th>\n",
       "      <td>Allen Crabbe</td>\n",
       "      <td>Atlanta Hawks</td>\n",
       "      <td>SG</td>\n",
       "      <td>1992-04-09</td>\n",
       "      <td>18500000</td>\n",
       "    </tr>\n",
       "    <tr>\n",
       "      <th>213</th>\n",
       "      <td>De'Andre Hunter</td>\n",
       "      <td>Atlanta Hawks</td>\n",
       "      <td>SF</td>\n",
       "      <td>1997-12-02</td>\n",
       "      <td>7068360</td>\n",
       "    </tr>\n",
       "    <tr>\n",
       "      <th>339</th>\n",
       "      <td>Jabari Parker</td>\n",
       "      <td>Atlanta Hawks</td>\n",
       "      <td>PF</td>\n",
       "      <td>1995-03-15</td>\n",
       "      <td>6500000</td>\n",
       "    </tr>\n",
       "    <tr>\n",
       "      <th>...</th>\n",
       "      <td>...</td>\n",
       "      <td>...</td>\n",
       "      <td>...</td>\n",
       "      <td>...</td>\n",
       "      <td>...</td>\n",
       "    </tr>\n",
       "    <tr>\n",
       "      <th>80</th>\n",
       "      <td>Isaac Bonga</td>\n",
       "      <td>Washington Wizards</td>\n",
       "      <td>PG</td>\n",
       "      <td>1999-11-08</td>\n",
       "      <td>1416852</td>\n",
       "    </tr>\n",
       "    <tr>\n",
       "      <th>399</th>\n",
       "      <td>Admiral Schofield</td>\n",
       "      <td>Washington Wizards</td>\n",
       "      <td>SF</td>\n",
       "      <td>1997-03-30</td>\n",
       "      <td>1000000</td>\n",
       "    </tr>\n",
       "    <tr>\n",
       "      <th>273</th>\n",
       "      <td>Justin Robinson</td>\n",
       "      <td>Washington Wizards</td>\n",
       "      <td>PG</td>\n",
       "      <td>1997-10-12</td>\n",
       "      <td>898310</td>\n",
       "    </tr>\n",
       "    <tr>\n",
       "      <th>283</th>\n",
       "      <td>Garrison Mathews</td>\n",
       "      <td>Washington Wizards</td>\n",
       "      <td>SG</td>\n",
       "      <td>1996-10-24</td>\n",
       "      <td>79568</td>\n",
       "    </tr>\n",
       "    <tr>\n",
       "      <th>353</th>\n",
       "      <td>Chris Chiozza</td>\n",
       "      <td>Washington Wizards</td>\n",
       "      <td>PG</td>\n",
       "      <td>1995-11-21</td>\n",
       "      <td>79568</td>\n",
       "    </tr>\n",
       "  </tbody>\n",
       "</table>\n",
       "<p>450 rows × 5 columns</p>\n",
       "</div>"
      ],
      "text/plain": [
       "                  Name                Team Position   Birthday    Salary\n",
       "111   Chandler Parsons       Atlanta Hawks       SF 1988-10-25  25102512\n",
       "28         Evan Turner       Atlanta Hawks       PG 1988-10-27  18606556\n",
       "167       Allen Crabbe       Atlanta Hawks       SG 1992-04-09  18500000\n",
       "213    De'Andre Hunter       Atlanta Hawks       SF 1997-12-02   7068360\n",
       "339      Jabari Parker       Atlanta Hawks       PF 1995-03-15   6500000\n",
       "..                 ...                 ...      ...        ...       ...\n",
       "80         Isaac Bonga  Washington Wizards       PG 1999-11-08   1416852\n",
       "399  Admiral Schofield  Washington Wizards       SF 1997-03-30   1000000\n",
       "273    Justin Robinson  Washington Wizards       PG 1997-10-12    898310\n",
       "283   Garrison Mathews  Washington Wizards       SG 1996-10-24     79568\n",
       "353      Chris Chiozza  Washington Wizards       PG 1995-11-21     79568\n",
       "\n",
       "[450 rows x 5 columns]"
      ]
     },
     "execution_count": 38,
     "metadata": {},
     "output_type": "execute_result"
    }
   ],
   "source": [
    "nba=nba.sort_values(by=[\"Team\",\"Salary\"],ascending=[True,False])\n",
    "nba"
   ]
  },
  {
   "cell_type": "code",
   "execution_count": 61,
   "id": "57d6ccf4",
   "metadata": {},
   "outputs": [
    {
     "ename": "KeyError",
     "evalue": "\"None of ['Name'] are in the columns\"",
     "output_type": "error",
     "traceback": [
      "\u001b[31m---------------------------------------------------------------------------\u001b[39m",
      "\u001b[31mKeyError\u001b[39m                                  Traceback (most recent call last)",
      "\u001b[32m~\\AppData\\Local\\Temp\\ipykernel_26120\\1103867862.py\u001b[39m in \u001b[36m?\u001b[39m\u001b[34m()\u001b[39m\n\u001b[32m----> \u001b[39m\u001b[32m1\u001b[39m nba.set_index(keys=\u001b[33m\"Name\"\u001b[39m)\n",
      "\u001b[32me:\\DT-DS\\venv\\Lib\\site-packages\\pandas\\core\\frame.py\u001b[39m in \u001b[36m?\u001b[39m\u001b[34m(self, keys, drop, append, inplace, verify_integrity)\u001b[39m\n\u001b[32m   6125\u001b[39m                     \u001b[38;5;28;01mif\u001b[39;00m \u001b[38;5;28;01mnot\u001b[39;00m found:\n\u001b[32m   6126\u001b[39m                         missing.append(col)\n\u001b[32m   6127\u001b[39m \n\u001b[32m   6128\u001b[39m         \u001b[38;5;28;01mif\u001b[39;00m missing:\n\u001b[32m-> \u001b[39m\u001b[32m6129\u001b[39m             \u001b[38;5;28;01mraise\u001b[39;00m KeyError(f\"None of {missing} are in the columns\")\n\u001b[32m   6130\u001b[39m \n\u001b[32m   6131\u001b[39m         \u001b[38;5;28;01mif\u001b[39;00m inplace:\n\u001b[32m   6132\u001b[39m             frame = self\n",
      "\u001b[31mKeyError\u001b[39m: \"None of ['Name'] are in the columns\""
     ]
    }
   ],
   "source": [
    "nba.set_index(keys=\"Name\")"
   ]
  },
  {
   "cell_type": "code",
   "execution_count": 60,
   "id": "a4d43e29",
   "metadata": {},
   "outputs": [
    {
     "data": {
      "text/html": [
       "<div>\n",
       "<style scoped>\n",
       "    .dataframe tbody tr th:only-of-type {\n",
       "        vertical-align: middle;\n",
       "    }\n",
       "\n",
       "    .dataframe tbody tr th {\n",
       "        vertical-align: top;\n",
       "    }\n",
       "\n",
       "    .dataframe thead th {\n",
       "        text-align: right;\n",
       "    }\n",
       "</style>\n",
       "<table border=\"1\" class=\"dataframe\">\n",
       "  <thead>\n",
       "    <tr style=\"text-align: right;\">\n",
       "      <th></th>\n",
       "      <th>Team</th>\n",
       "      <th>Salary</th>\n",
       "      <th>Position</th>\n",
       "      <th>Birthday</th>\n",
       "    </tr>\n",
       "    <tr>\n",
       "      <th>Name</th>\n",
       "      <th></th>\n",
       "      <th></th>\n",
       "      <th></th>\n",
       "      <th></th>\n",
       "    </tr>\n",
       "  </thead>\n",
       "  <tbody>\n",
       "    <tr>\n",
       "      <th>Chandler Parsons</th>\n",
       "      <td>Atlanta Hawks</td>\n",
       "      <td>25102512</td>\n",
       "      <td>SF</td>\n",
       "      <td>1988-10-25</td>\n",
       "    </tr>\n",
       "    <tr>\n",
       "      <th>Evan Turner</th>\n",
       "      <td>Atlanta Hawks</td>\n",
       "      <td>18606556</td>\n",
       "      <td>PG</td>\n",
       "      <td>1988-10-27</td>\n",
       "    </tr>\n",
       "    <tr>\n",
       "      <th>Allen Crabbe</th>\n",
       "      <td>Atlanta Hawks</td>\n",
       "      <td>18500000</td>\n",
       "      <td>SG</td>\n",
       "      <td>1992-04-09</td>\n",
       "    </tr>\n",
       "    <tr>\n",
       "      <th>De'Andre Hunter</th>\n",
       "      <td>Atlanta Hawks</td>\n",
       "      <td>7068360</td>\n",
       "      <td>SF</td>\n",
       "      <td>1997-12-02</td>\n",
       "    </tr>\n",
       "    <tr>\n",
       "      <th>Jabari Parker</th>\n",
       "      <td>Atlanta Hawks</td>\n",
       "      <td>6500000</td>\n",
       "      <td>PF</td>\n",
       "      <td>1995-03-15</td>\n",
       "    </tr>\n",
       "    <tr>\n",
       "      <th>...</th>\n",
       "      <td>...</td>\n",
       "      <td>...</td>\n",
       "      <td>...</td>\n",
       "      <td>...</td>\n",
       "    </tr>\n",
       "    <tr>\n",
       "      <th>Isaac Bonga</th>\n",
       "      <td>Washington Wizards</td>\n",
       "      <td>1416852</td>\n",
       "      <td>PG</td>\n",
       "      <td>1999-11-08</td>\n",
       "    </tr>\n",
       "    <tr>\n",
       "      <th>Admiral Schofield</th>\n",
       "      <td>Washington Wizards</td>\n",
       "      <td>1000000</td>\n",
       "      <td>SF</td>\n",
       "      <td>1997-03-30</td>\n",
       "    </tr>\n",
       "    <tr>\n",
       "      <th>Justin Robinson</th>\n",
       "      <td>Washington Wizards</td>\n",
       "      <td>898310</td>\n",
       "      <td>PG</td>\n",
       "      <td>1997-10-12</td>\n",
       "    </tr>\n",
       "    <tr>\n",
       "      <th>Garrison Mathews</th>\n",
       "      <td>Washington Wizards</td>\n",
       "      <td>79568</td>\n",
       "      <td>SG</td>\n",
       "      <td>1996-10-24</td>\n",
       "    </tr>\n",
       "    <tr>\n",
       "      <th>Chris Chiozza</th>\n",
       "      <td>Washington Wizards</td>\n",
       "      <td>79568</td>\n",
       "      <td>PG</td>\n",
       "      <td>1995-11-21</td>\n",
       "    </tr>\n",
       "  </tbody>\n",
       "</table>\n",
       "<p>450 rows × 4 columns</p>\n",
       "</div>"
      ],
      "text/plain": [
       "                                 Team    Salary Position   Birthday\n",
       "Name                                                               \n",
       "Chandler Parsons        Atlanta Hawks  25102512       SF 1988-10-25\n",
       "Evan Turner             Atlanta Hawks  18606556       PG 1988-10-27\n",
       "Allen Crabbe            Atlanta Hawks  18500000       SG 1992-04-09\n",
       "De'Andre Hunter         Atlanta Hawks   7068360       SF 1997-12-02\n",
       "Jabari Parker           Atlanta Hawks   6500000       PF 1995-03-15\n",
       "...                               ...       ...      ...        ...\n",
       "Isaac Bonga        Washington Wizards   1416852       PG 1999-11-08\n",
       "Admiral Schofield  Washington Wizards   1000000       SF 1997-03-30\n",
       "Justin Robinson    Washington Wizards    898310       PG 1997-10-12\n",
       "Garrison Mathews   Washington Wizards     79568       SG 1996-10-24\n",
       "Chris Chiozza      Washington Wizards     79568       PG 1995-11-21\n",
       "\n",
       "[450 rows x 4 columns]"
      ]
     },
     "execution_count": 60,
     "metadata": {},
     "output_type": "execute_result"
    }
   ],
   "source": [
    "nba.sort_index(axis=\"columns\",ascending=False)"
   ]
  },
  {
   "cell_type": "code",
   "execution_count": 59,
   "id": "9d2d5720",
   "metadata": {},
   "outputs": [
    {
     "data": {
      "text/html": [
       "<div>\n",
       "<style scoped>\n",
       "    .dataframe tbody tr th:only-of-type {\n",
       "        vertical-align: middle;\n",
       "    }\n",
       "\n",
       "    .dataframe tbody tr th {\n",
       "        vertical-align: top;\n",
       "    }\n",
       "\n",
       "    .dataframe thead th {\n",
       "        text-align: right;\n",
       "    }\n",
       "</style>\n",
       "<table border=\"1\" class=\"dataframe\">\n",
       "  <thead>\n",
       "    <tr style=\"text-align: right;\">\n",
       "      <th></th>\n",
       "      <th>Team</th>\n",
       "      <th>Position</th>\n",
       "      <th>Birthday</th>\n",
       "      <th>Salary</th>\n",
       "    </tr>\n",
       "    <tr>\n",
       "      <th>Name</th>\n",
       "      <th></th>\n",
       "      <th></th>\n",
       "      <th></th>\n",
       "      <th></th>\n",
       "    </tr>\n",
       "  </thead>\n",
       "  <tbody>\n",
       "    <tr>\n",
       "      <th>Aaron Gordon</th>\n",
       "      <td>Orlando Magic</td>\n",
       "      <td>PF</td>\n",
       "      <td>1995-09-16</td>\n",
       "      <td>19863636</td>\n",
       "    </tr>\n",
       "    <tr>\n",
       "      <th>Aaron Holiday</th>\n",
       "      <td>Indiana Pacers</td>\n",
       "      <td>PG</td>\n",
       "      <td>1996-09-30</td>\n",
       "      <td>2239200</td>\n",
       "    </tr>\n",
       "    <tr>\n",
       "      <th>Abdel Nader</th>\n",
       "      <td>Oklahoma City Thunder</td>\n",
       "      <td>SF</td>\n",
       "      <td>1993-09-25</td>\n",
       "      <td>1618520</td>\n",
       "    </tr>\n",
       "    <tr>\n",
       "      <th>Adam Mokoka</th>\n",
       "      <td>Chicago Bulls</td>\n",
       "      <td>G</td>\n",
       "      <td>1998-07-18</td>\n",
       "      <td>79568</td>\n",
       "    </tr>\n",
       "    <tr>\n",
       "      <th>Admiral Schofield</th>\n",
       "      <td>Washington Wizards</td>\n",
       "      <td>SF</td>\n",
       "      <td>1997-03-30</td>\n",
       "      <td>1000000</td>\n",
       "    </tr>\n",
       "    <tr>\n",
       "      <th>...</th>\n",
       "      <td>...</td>\n",
       "      <td>...</td>\n",
       "      <td>...</td>\n",
       "      <td>...</td>\n",
       "    </tr>\n",
       "    <tr>\n",
       "      <th>Zach LaVine</th>\n",
       "      <td>Chicago Bulls</td>\n",
       "      <td>PG</td>\n",
       "      <td>1995-03-10</td>\n",
       "      <td>19500000</td>\n",
       "    </tr>\n",
       "    <tr>\n",
       "      <th>Zach Norvell</th>\n",
       "      <td>Los Angeles Lakers</td>\n",
       "      <td>SG</td>\n",
       "      <td>1997-12-09</td>\n",
       "      <td>79568</td>\n",
       "    </tr>\n",
       "    <tr>\n",
       "      <th>Zhaire Smith</th>\n",
       "      <td>Philadelphia 76ers</td>\n",
       "      <td>SG</td>\n",
       "      <td>1999-06-04</td>\n",
       "      <td>3058800</td>\n",
       "    </tr>\n",
       "    <tr>\n",
       "      <th>Zion Williamson</th>\n",
       "      <td>New Orleans Pelicans</td>\n",
       "      <td>F</td>\n",
       "      <td>2000-07-06</td>\n",
       "      <td>9757440</td>\n",
       "    </tr>\n",
       "    <tr>\n",
       "      <th>Zylan Cheatham</th>\n",
       "      <td>New Orleans Pelicans</td>\n",
       "      <td>SF</td>\n",
       "      <td>1995-11-17</td>\n",
       "      <td>79568</td>\n",
       "    </tr>\n",
       "  </tbody>\n",
       "</table>\n",
       "<p>450 rows × 4 columns</p>\n",
       "</div>"
      ],
      "text/plain": [
       "                                    Team Position   Birthday    Salary\n",
       "Name                                                                  \n",
       "Aaron Gordon               Orlando Magic       PF 1995-09-16  19863636\n",
       "Aaron Holiday             Indiana Pacers       PG 1996-09-30   2239200\n",
       "Abdel Nader        Oklahoma City Thunder       SF 1993-09-25   1618520\n",
       "Adam Mokoka                Chicago Bulls        G 1998-07-18     79568\n",
       "Admiral Schofield     Washington Wizards       SF 1997-03-30   1000000\n",
       "...                                  ...      ...        ...       ...\n",
       "Zach LaVine                Chicago Bulls       PG 1995-03-10  19500000\n",
       "Zach Norvell          Los Angeles Lakers       SG 1997-12-09     79568\n",
       "Zhaire Smith          Philadelphia 76ers       SG 1999-06-04   3058800\n",
       "Zion Williamson     New Orleans Pelicans        F 2000-07-06   9757440\n",
       "Zylan Cheatham      New Orleans Pelicans       SF 1995-11-17     79568\n",
       "\n",
       "[450 rows x 4 columns]"
      ]
     },
     "execution_count": 59,
     "metadata": {},
     "output_type": "execute_result"
    }
   ],
   "source": [
    "nba.sort_index(axis=0)"
   ]
  },
  {
   "cell_type": "code",
   "execution_count": null,
   "id": "45daa673",
   "metadata": {},
   "outputs": [],
   "source": []
  },
  {
   "cell_type": "code",
   "execution_count": null,
   "id": "889f24dc",
   "metadata": {},
   "outputs": [],
   "source": []
  },
  {
   "cell_type": "code",
   "execution_count": null,
   "id": "a504dad1",
   "metadata": {},
   "outputs": [],
   "source": []
  },
  {
   "cell_type": "code",
   "execution_count": null,
   "id": "b6840b50",
   "metadata": {},
   "outputs": [],
   "source": []
  },
  {
   "cell_type": "code",
   "execution_count": null,
   "id": "7e986df0",
   "metadata": {},
   "outputs": [],
   "source": []
  },
  {
   "cell_type": "code",
   "execution_count": null,
   "id": "364c4886",
   "metadata": {},
   "outputs": [],
   "source": []
  }
 ],
 "metadata": {
  "kernelspec": {
   "display_name": "venv (3.13.6)",
   "language": "python",
   "name": "python3"
  },
  "language_info": {
   "codemirror_mode": {
    "name": "ipython",
    "version": 3
   },
   "file_extension": ".py",
   "mimetype": "text/x-python",
   "name": "python",
   "nbconvert_exporter": "python",
   "pygments_lexer": "ipython3",
   "version": "3.13.6"
  }
 },
 "nbformat": 4,
 "nbformat_minor": 5
}
